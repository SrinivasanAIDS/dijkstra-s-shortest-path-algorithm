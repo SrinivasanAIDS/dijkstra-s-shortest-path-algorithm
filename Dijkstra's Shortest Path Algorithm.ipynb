{
 "cells": [
  {
   "cell_type": "code",
   "execution_count": 6,
   "id": "786d2872-0899-4831-aadf-8b7d7df1182c",
   "metadata": {},
   "outputs": [],
   "source": [
    "%matplotlib inline\n",
    "import matplotlib.pyplot as plt\n",
    "import random\n",
    "import math\n",
    "import sys\n",
    "from collections import defaultdict, deque, Counter\n",
    "from itertools import combinations\n",
    "import heapq"
   ]
  },
  {
   "cell_type": "code",
   "execution_count": 7,
   "id": "1edd8162-2389-49ac-99b8-2c7a640d809e",
   "metadata": {},
   "outputs": [],
   "source": [
    "class Problem(object):\n",
    "    \"\"\"The abstract class for a formal problem. A new domain subclasses this,\n",
    "    overriding `actions` and `results`, and perhaps other methods.\n",
    "    The default heuristic is 0 and the default action cost is 1 for all states.\n",
    "    When yiou create an instance of a subclass, specify `initial`, and `goal` states \n",
    "    (or give an `is_goal` method) and perhaps other keyword args for the subclass.\"\"\"\n",
    "\n",
    "    def __init__(self, initial=None, goal=None, **kwds): \n",
    "        self.__dict__.update(initial=initial, goal=goal, **kwds) \n",
    "        \n",
    "    def actions(self, state):        \n",
    "        raise NotImplementedError\n",
    "    def result(self, state, action): \n",
    "        raise NotImplementedError\n",
    "    def is_goal(self, state):        \n",
    "        return state == self.goal\n",
    "    def action_cost(self, s, a, s1): \n",
    "        return 1\n",
    "    \n",
    "    def __str__(self):\n",
    "        return '{0}({1}, {2})'.format(\n",
    "            type(self).__name__, self.initial, self.goal)"
   ]
  },
  {
   "cell_type": "code",
   "execution_count": 8,
   "id": "6f5d8236-217f-4921-b1f1-e2509f63c1ea",
   "metadata": {},
   "outputs": [],
   "source": [
    "class Node:\n",
    "    \"A Node in a search tree.\"\n",
    "    def __init__(self, state, parent=None, action=None, path_cost=0):\n",
    "        self.__dict__.update(state=state, parent=parent, action=action, path_cost=path_cost)\n",
    "\n",
    "    def __str__(self): \n",
    "        return '<{0}>'.format(self.state)\n",
    "    def __len__(self): \n",
    "        return 0 if self.parent is None else (1 + len(self.parent))\n",
    "    def __lt__(self, other): \n",
    "        return self.path_cost < other.path_cost"
   ]
  },
  {
   "cell_type": "code",
   "execution_count": 9,
   "id": "9ff7675a-bf6e-4a58-9fe7-90b2dc5868d8",
   "metadata": {},
   "outputs": [],
   "source": [
    "failure = Node('failure', path_cost=math.inf) # Indicates an algorithm couldn't find a solution.\n",
    "cutoff  = Node('cutoff',  path_cost=math.inf) # Indicates iterative deepening search was cut off."
   ]
  },
  {
   "cell_type": "code",
   "execution_count": 10,
   "id": "39b3eb73-5131-47de-b0c6-74e142c5666c",
   "metadata": {},
   "outputs": [],
   "source": [
    "def expand(problem, node):\n",
    "    \"Expand a node, generating the children nodes.\"\n",
    "    s = node.state\n",
    "    for action in problem.actions(s):\n",
    "        s1 = problem.result(s, action)\n",
    "        cost = node.path_cost + problem.action_cost(s, action, s1)\n",
    "        yield Node(s1, node, action, cost)\n",
    "        \n",
    "\n",
    "def path_actions(node):\n",
    "    \"The sequence of actions to get to this node.\"\n",
    "    if node.parent is None:\n",
    "        return []  \n",
    "    return path_actions(node.parent) + [node.action]\n",
    "\n",
    "\n",
    "def path_states(node):\n",
    "    \"The sequence of states to get to this node.\"\n",
    "    if node in (cutoff, failure, None): \n",
    "        return []\n",
    "    return path_states(node.parent) + [node.state]"
   ]
  },
  {
   "cell_type": "code",
   "execution_count": 11,
   "id": "71ee317f-5034-40c6-be0a-64952dfb1352",
   "metadata": {},
   "outputs": [],
   "source": [
    "class PriorityQueue:\n",
    "    \"\"\"A queue in which the item with minimum f(item) is always popped first.\"\"\"\n",
    "\n",
    "    def __init__(self, items=(), key=lambda x: x): \n",
    "        self.key = key\n",
    "        self.items = [] # a heap of (score, item) pairs\n",
    "        for item in items:\n",
    "            self.add(item)\n",
    "         \n",
    "    def add(self, item):\n",
    "        \"\"\"Add item to the queuez.\"\"\"\n",
    "        pair = (self.key(item), item)\n",
    "        heapq.heappush(self.items, pair)\n",
    "\n",
    "    def pop(self):\n",
    "        \"\"\"Pop and return the item with min f(item) value.\"\"\"\n",
    "        return heapq.heappop(self.items)[1]\n",
    "    \n",
    "    def top(self): return self.items[0][1]\n",
    "\n",
    "    def __len__(self): return len(self.items)"
   ]
  },
  {
   "cell_type": "code",
   "execution_count": 13,
   "id": "1d2a916d-a152-48d6-bb0a-af33eebffff6",
   "metadata": {},
   "outputs": [],
   "source": [
    "def best_first_search(problem, f):\n",
    "    \"Search nodes with minimum f(node) value first.\"\n",
    "    node = Node(problem.initial)\n",
    "    frontier = PriorityQueue([node], key=f)\n",
    "    reached = {problem.initial: node}\n",
    "    while frontier:\n",
    "        node = frontier.pop()\n",
    "        if problem.is_goal(node.state):\n",
    "            return node\n",
    "        for child in expand(problem,node):\n",
    "            s=child.state\n",
    "            if s not in reached or child.path_cost < reached[s].path_cost:\n",
    "                reached[s]= child\n",
    "                frontier.add(child)\n",
    "         \n",
    "    return failure\n",
    "\n",
    "def g(n): \n",
    "    # Write your code here ; modify the below mentioned line to find the actual cost\n",
    "    cost = 1\n",
    "    return cost"
   ]
  },
  {
   "cell_type": "code",
   "execution_count": 14,
   "id": "c3978827-6457-4942-b877-64bb5113fd50",
   "metadata": {},
   "outputs": [],
   "source": [
    "class RouteProblem(Problem):\n",
    "    \"\"\"A problem to find a route between locations on a `Map`.\n",
    "    Create a problem with RouteProblem(start, goal, map=Map(...)}).\n",
    "    States are the vertexes in the Map graph; actions are destination states.\"\"\"\n",
    "    \n",
    "    def actions(self, state): \n",
    "        \"\"\"The places neighboring `state`.\"\"\"\n",
    "        return self.map.neighbors[state]\n",
    "    \n",
    "    def result(self, state, action):\n",
    "        \"\"\"Go to the `action` place, if the map says that is possible.\"\"\"\n",
    "        return action if action in self.map.neighbors[state] else state\n",
    "    \n",
    "    def action_cost(self, s, action, s1):\n",
    "        \"\"\"The distance (cost) to go from s to s1.\"\"\"\n",
    "        return self.map.distances[s, s1]\n",
    "    \n",
    "    def h(self, node):\n",
    "        \"Straight-line distance between state and the goal.\"\n",
    "        locs = self.map.locations\n",
    "        return straight_line_distance(locs[node.state], locs[self.goal])"
   ]
  },
  {
   "cell_type": "code",
   "execution_count": 15,
   "id": "c3554b73-9cfe-4672-992b-7df37cea34c3",
   "metadata": {},
   "outputs": [],
   "source": [
    "class Map:\n",
    "    \"\"\"A map of places in a 2D world: a graph with vertexes and links between them. \n",
    "    In `Map(links, locations)`, `links` can be either [(v1, v2)...] pairs, \n",
    "    or a {(v1, v2): distance...} dict. Optional `locations` can be {v1: (x, y)} \n",
    "    If `directed=False` then for every (v1, v2) link, we add a (v2, v1) link.\"\"\"\n",
    "\n",
    "    def __init__(self, links, locations=None, directed=False):\n",
    "        if not hasattr(links, 'items'): # Distances are 1 by default\n",
    "            links = {link: 1 for link in links}\n",
    "        if not directed:\n",
    "            for (v1, v2) in list(links):\n",
    "                links[v2, v1] = links[v1, v2]\n",
    "        self.distances = links\n",
    "        self.neighbors = multimap(links)\n",
    "        self.locations = locations or defaultdict(lambda: (0, 0))\n",
    "\n",
    "        \n",
    "def multimap(pairs) -> dict:\n",
    "    \"Given (key, val) pairs, make a dict of {key: [val,...]}.\"\n",
    "    result = defaultdict(list)\n",
    "    for key, val in pairs:\n",
    "        result[key].append(val)\n",
    "    return result"
   ]
  },
  {
   "cell_type": "code",
   "execution_count": 16,
   "id": "b0daf87a-3399-48aa-a7b9-d4ffb697f639",
   "metadata": {},
   "outputs": [],
   "source": [
    "# Create your own map and define the nodes\n",
    "\n",
    "\n",
    "nearby_locations = Map(\n",
    "   {('Sriperumputhur', 'Pennalur'):  8, ('Sriperumputhur', 'nemili'): 4,('nemili', 'thodukkadu'): 4,('thodukkadu','sengadu'): 5,('Pennalur', 'Meavalakuppam'): 4, ('Pennalur', 'Valarpuram'): 7,('Pennalur', 'Kuthambakkam'):9,('Kuthambakkam','Thirumazhisai'):7, \n",
    "    ('sengadu','mappedu'): 6,('sengadu','paapparambakkam'): 10,('paapparambakkam','putlur'): 11, ('mappedu','kilacheri'): 6,('sengadu','polivakkam'): 4, ('Thirumazhisai','poonamallee'): 4, ('poonamallee','Avadi'):  10,('Avadi','pattabiram'): 6,\n",
    "    ('pattabiram','veppampattu'): 5,('veppampattu','putlur'): 5,('pattabiram','serangerii'): 6,('serangerii','vellavedu'): 5, ('putlur', 'Tiruvallur'): 5,})\n",
    "\n",
    "\n",
    "r0 = RouteProblem('Sriperumputhur','pattabiram', map=nearby_locations)\n",
    "r1 = RouteProblem('Sriperumputhur', 'Tiruvallur', map=nearby_locations)\n",
    "r2 = RouteProblem('Sriperumputhur', 'Avadi', map=nearby_locations)\n",
    "r3 = RouteProblem('Sriperumputhur', 'putlur', map=nearby_locations)\n",
    "r4 = RouteProblem('Pennalur', 'poonamallee', map=nearby_locations)\n",
    "r5 = RouteProblem('Sriperumputhur', 'Valarpuram', map=nearby_locations)\n",
    "r6 = RouteProblem('vellavedu', 'pattabiram', map=nearby_locations)\n"
   ]
  },
  {
   "cell_type": "code",
   "execution_count": 17,
   "id": "0f3e74ce-e8fe-4bc0-a5a4-3bbc4d224825",
   "metadata": {},
   "outputs": [],
   "source": [
    "goal_state_path=best_first_search(r1,g)\n"
   ]
  },
  {
   "cell_type": "code",
   "execution_count": 18,
   "id": "3d6e498a-7397-42c2-b91f-720fc4b7fb56",
   "metadata": {},
   "outputs": [
    {
     "name": "stdout",
     "output_type": "stream",
     "text": [
      "GoalStateWithPath:<Tiruvallur>\n"
     ]
    }
   ],
   "source": [
    "print(\"GoalStateWithPath:{0}\".format(goal_state_path))\n"
   ]
  },
  {
   "cell_type": "code",
   "execution_count": 19,
   "id": "c456c383-14f7-4e51-b996-624ac93de4a2",
   "metadata": {},
   "outputs": [
    {
     "data": {
      "text/plain": [
       "['Sriperumputhur',\n",
       " 'nemili',\n",
       " 'thodukkadu',\n",
       " 'sengadu',\n",
       " 'paapparambakkam',\n",
       " 'putlur',\n",
       " 'Tiruvallur']"
      ]
     },
     "execution_count": 19,
     "metadata": {},
     "output_type": "execute_result"
    }
   ],
   "source": [
    "path_states(goal_state_path) \n"
   ]
  },
  {
   "cell_type": "code",
   "execution_count": 20,
   "id": "845f3100-5f0e-4ace-ad6f-29e0244a096c",
   "metadata": {},
   "outputs": [
    {
     "name": "stdout",
     "output_type": "stream",
     "text": [
      "Total Distance=39 Kilometers\n"
     ]
    }
   ],
   "source": [
    "print(\"Total Distance={0} Kilometers\".format(goal_state_path.path_cost))\n"
   ]
  },
  {
   "cell_type": "code",
   "execution_count": null,
   "id": "913c233e-0875-48d0-beef-7bd11697262e",
   "metadata": {},
   "outputs": [],
   "source": []
  }
 ],
 "metadata": {
  "kernelspec": {
   "display_name": "Python 3",
   "language": "python",
   "name": "python3"
  },
  "language_info": {
   "codemirror_mode": {
    "name": "ipython",
    "version": 3
   },
   "file_extension": ".py",
   "mimetype": "text/x-python",
   "name": "python",
   "nbconvert_exporter": "python",
   "pygments_lexer": "ipython3",
   "version": "3.8.8"
  }
 },
 "nbformat": 4,
 "nbformat_minor": 5
}
